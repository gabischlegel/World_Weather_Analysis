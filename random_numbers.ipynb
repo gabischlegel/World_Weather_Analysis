{
 "cells": [
  {
   "cell_type": "code",
   "execution_count": 2,
   "id": "199fa935",
   "metadata": {},
   "outputs": [],
   "source": [
    "# Import the random module.\n",
    "import random"
   ]
  },
  {
   "cell_type": "code",
   "execution_count": 3,
   "id": "a65aa57a",
   "metadata": {},
   "outputs": [
    {
     "data": {
      "text/plain": [
       "-73"
      ]
     },
     "execution_count": 3,
     "metadata": {},
     "output_type": "execute_result"
    }
   ],
   "source": [
    "random.randint(-90,90)\n"
   ]
  },
  {
   "cell_type": "code",
   "execution_count": 4,
   "id": "94a0ea16",
   "metadata": {},
   "outputs": [
    {
     "data": {
      "text/plain": [
       "0.7752344180340318"
      ]
     },
     "execution_count": 4,
     "metadata": {},
     "output_type": "execute_result"
    }
   ],
   "source": [
    "random.random()"
   ]
  },
  {
   "cell_type": "code",
   "execution_count": 8,
   "id": "6ad6f40c",
   "metadata": {},
   "outputs": [],
   "source": [
    "x = 1\n",
    "latitudes = []\n",
    "while x < 11:\n",
    "    random_lat = random.randint(-90, 89) + random.random()\n",
    "    latitudes.append(random_lat)\n",
    "    x += 1"
   ]
  },
  {
   "cell_type": "code",
   "execution_count": 9,
   "id": "b2c8094e",
   "metadata": {},
   "outputs": [
    {
     "data": {
      "text/plain": [
       "-7"
      ]
     },
     "execution_count": 9,
     "metadata": {},
     "output_type": "execute_result"
    }
   ],
   "source": [
    "random.randrange(-90, 90, step=1)"
   ]
  },
  {
   "cell_type": "code",
   "execution_count": 10,
   "id": "64a429d8",
   "metadata": {},
   "outputs": [
    {
     "data": {
      "text/plain": [
       "-63"
      ]
     },
     "execution_count": 10,
     "metadata": {},
     "output_type": "execute_result"
    }
   ],
   "source": [
    "random.randrange(-90, 90, step=3)"
   ]
  },
  {
   "cell_type": "code",
   "execution_count": 11,
   "id": "626e0266",
   "metadata": {},
   "outputs": [
    {
     "data": {
      "text/plain": [
       "-16.014727869191674"
      ]
     },
     "execution_count": 11,
     "metadata": {},
     "output_type": "execute_result"
    }
   ],
   "source": [
    "random.uniform(-90, 90)"
   ]
  },
  {
   "cell_type": "code",
   "execution_count": 12,
   "id": "ac95be4b",
   "metadata": {},
   "outputs": [],
   "source": [
    "# Import the NumPy module.\n",
    "import numpy as np"
   ]
  },
  {
   "cell_type": "code",
   "execution_count": 13,
   "id": "34dbd306",
   "metadata": {},
   "outputs": [
    {
     "data": {
      "text/plain": [
       "-47.55917740127806"
      ]
     },
     "execution_count": 13,
     "metadata": {},
     "output_type": "execute_result"
    }
   ],
   "source": [
    "np.random.uniform(-90.000, 90.000)"
   ]
  },
  {
   "cell_type": "code",
   "execution_count": 14,
   "id": "3c64e682",
   "metadata": {},
   "outputs": [
    {
     "data": {
      "text/plain": [
       "array([-43.67039919, -18.37859334,   3.48790407, -39.91036705,\n",
       "       -79.37713432,  85.36899452, -11.16356845,  18.47120771,\n",
       "        70.75216835,  10.84698488, -44.31829731,  41.80830612,\n",
       "       -54.96368884,  18.81906837,  70.59136482,  37.78892925,\n",
       "        15.68454168,  63.10727227,  -3.65481585,  69.57942081,\n",
       "        39.03267259, -14.63435391,  38.32873252,  81.02423106,\n",
       "        23.52500547,  39.33347179,  29.25517976, -84.58871068,\n",
       "       -26.80148318,  23.04576928,  54.38941419,  63.96155744,\n",
       "        76.44267596, -46.0614432 ,  89.41716517,  -7.56688015,\n",
       "       -86.69780467, -59.27723331,  75.66759805,  88.95273631,\n",
       "       -62.39129174, -58.16903452,  -5.08413465, -23.93299114,\n",
       "        13.54308826,  26.05499681,  12.91106934,  10.36647516,\n",
       "       -36.34856982,  14.00007901])"
      ]
     },
     "execution_count": 14,
     "metadata": {},
     "output_type": "execute_result"
    }
   ],
   "source": [
    "np.random.uniform(-90.000, 90.000, size=50)"
   ]
  },
  {
   "cell_type": "code",
   "execution_count": 15,
   "id": "7f3d0adc",
   "metadata": {},
   "outputs": [],
   "source": [
    "# Import timeit.\n",
    "import timeit"
   ]
  },
  {
   "cell_type": "code",
   "execution_count": 16,
   "id": "8d4d4ff8",
   "metadata": {},
   "outputs": [
    {
     "name": "stdout",
     "output_type": "stream",
     "text": [
      "16.1 µs ± 587 ns per loop (mean ± std. dev. of 7 runs, 100000 loops each)\n"
     ]
    }
   ],
   "source": [
    "%timeit np.random.uniform(-90.000, 90.000, size=1500)"
   ]
  },
  {
   "cell_type": "code",
   "execution_count": 17,
   "id": "5a7340a9",
   "metadata": {},
   "outputs": [
    {
     "name": "stdout",
     "output_type": "stream",
     "text": [
      "2.45 ms ± 66.2 µs per loop (mean ± std. dev. of 7 runs, 100 loops each)\n"
     ]
    }
   ],
   "source": [
    "def latitudes(size):\n",
    "    latitudes = []\n",
    "    x = 0\n",
    "    while x < (size):\n",
    "        random_lat = random.randint(-90, 90) + random.random()\n",
    "        latitudes.append(random_lat)\n",
    "        x += 1\n",
    "    return latitudes\n",
    "# Call the function with 1500.\n",
    "%timeit latitudes(1500)"
   ]
  },
  {
   "cell_type": "code",
   "execution_count": null,
   "id": "18146498",
   "metadata": {},
   "outputs": [
    {
     "name": "stdout",
     "output_type": "stream",
     "text": [
      "16.7 µs ± 1.77 µs per loop (mean ± std. dev. of 7 runs, 100000 loops each)\n",
      "16.4 µs ± 683 ns per loop (mean ± std. dev. of 7 runs, 100000 loops each)\n",
      "17.1 µs ± 1.39 µs per loop (mean ± std. dev. of 7 runs, 100000 loops each)\n",
      "25.4 µs ± 3.2 µs per loop (mean ± std. dev. of 7 runs, 10000 loops each)\n",
      "24.4 µs ± 3.58 µs per loop (mean ± std. dev. of 7 runs, 10000 loops each)\n",
      "24.1 µs ± 2.88 µs per loop (mean ± std. dev. of 7 runs, 10000 loops each)\n",
      "19.8 µs ± 4.58 µs per loop (mean ± std. dev. of 7 runs, 10000 loops each)\n",
      "17.8 µs ± 2.06 µs per loop (mean ± std. dev. of 7 runs, 100000 loops each)\n",
      "17.4 µs ± 1.36 µs per loop (mean ± std. dev. of 7 runs, 100000 loops each)\n",
      "16.3 µs ± 754 ns per loop (mean ± std. dev. of 7 runs, 10000 loops each)\n",
      "15.6 µs ± 815 ns per loop (mean ± std. dev. of 7 runs, 100000 loops each)\n",
      "20.4 µs ± 4.09 µs per loop (mean ± std. dev. of 7 runs, 100000 loops each)\n",
      "16.7 µs ± 1.37 µs per loop (mean ± std. dev. of 7 runs, 100000 loops each)\n",
      "16.4 µs ± 2.1 µs per loop (mean ± std. dev. of 7 runs, 100000 loops each)\n",
      "16 µs ± 1.37 µs per loop (mean ± std. dev. of 7 runs, 100000 loops each)\n",
      "16.2 µs ± 977 ns per loop (mean ± std. dev. of 7 runs, 100000 loops each)\n",
      "19.3 µs ± 1.6 µs per loop (mean ± std. dev. of 7 runs, 100000 loops each)\n",
      "15.4 µs ± 172 ns per loop (mean ± std. dev. of 7 runs, 100000 loops each)\n",
      "16.2 µs ± 1.45 µs per loop (mean ± std. dev. of 7 runs, 100000 loops each)\n",
      "16.6 µs ± 3.17 µs per loop (mean ± std. dev. of 7 runs, 100000 loops each)\n",
      "16.5 µs ± 1.18 µs per loop (mean ± std. dev. of 7 runs, 100000 loops each)\n",
      "20.4 µs ± 4.08 µs per loop (mean ± std. dev. of 7 runs, 100000 loops each)\n",
      "20.2 µs ± 1.95 µs per loop (mean ± std. dev. of 7 runs, 100000 loops each)\n",
      "19 µs ± 1.99 µs per loop (mean ± std. dev. of 7 runs, 100000 loops each)\n",
      "16.8 µs ± 1.36 µs per loop (mean ± std. dev. of 7 runs, 100000 loops each)\n",
      "16 µs ± 914 ns per loop (mean ± std. dev. of 7 runs, 100000 loops each)\n",
      "16.6 µs ± 1.3 µs per loop (mean ± std. dev. of 7 runs, 100000 loops each)\n",
      "15.3 µs ± 181 ns per loop (mean ± std. dev. of 7 runs, 100000 loops each)\n",
      "15.2 µs ± 259 ns per loop (mean ± std. dev. of 7 runs, 100000 loops each)\n",
      "15 µs ± 131 ns per loop (mean ± std. dev. of 7 runs, 100000 loops each)\n",
      "15.1 µs ± 247 ns per loop (mean ± std. dev. of 7 runs, 100000 loops each)\n",
      "15.2 µs ± 339 ns per loop (mean ± std. dev. of 7 runs, 100000 loops each)\n",
      "15.4 µs ± 564 ns per loop (mean ± std. dev. of 7 runs, 100000 loops each)\n",
      "15.1 µs ± 172 ns per loop (mean ± std. dev. of 7 runs, 100000 loops each)\n",
      "16.6 µs ± 1.67 µs per loop (mean ± std. dev. of 7 runs, 100000 loops each)\n",
      "15.4 µs ± 428 ns per loop (mean ± std. dev. of 7 runs, 100000 loops each)\n",
      "16.9 µs ± 2.22 µs per loop (mean ± std. dev. of 7 runs, 100000 loops each)\n",
      "15.2 µs ± 267 ns per loop (mean ± std. dev. of 7 runs, 100000 loops each)\n",
      "15.3 µs ± 415 ns per loop (mean ± std. dev. of 7 runs, 100000 loops each)\n",
      "15.3 µs ± 329 ns per loop (mean ± std. dev. of 7 runs, 100000 loops each)\n",
      "15.1 µs ± 381 ns per loop (mean ± std. dev. of 7 runs, 100000 loops each)\n",
      "15.4 µs ± 447 ns per loop (mean ± std. dev. of 7 runs, 100000 loops each)\n",
      "15.3 µs ± 345 ns per loop (mean ± std. dev. of 7 runs, 100000 loops each)\n",
      "15.2 µs ± 354 ns per loop (mean ± std. dev. of 7 runs, 100000 loops each)\n",
      "16.7 µs ± 1.53 µs per loop (mean ± std. dev. of 7 runs, 100000 loops each)\n",
      "15.9 µs ± 1.13 µs per loop (mean ± std. dev. of 7 runs, 100000 loops each)\n",
      "15.5 µs ± 802 ns per loop (mean ± std. dev. of 7 runs, 100000 loops each)\n",
      "15.6 µs ± 1.42 µs per loop (mean ± std. dev. of 7 runs, 100000 loops each)\n",
      "15.1 µs ± 376 ns per loop (mean ± std. dev. of 7 runs, 100000 loops each)\n",
      "15.7 µs ± 604 ns per loop (mean ± std. dev. of 7 runs, 100000 loops each)\n",
      "16.3 µs ± 1.31 µs per loop (mean ± std. dev. of 7 runs, 100000 loops each)\n",
      "15.2 µs ± 383 ns per loop (mean ± std. dev. of 7 runs, 100000 loops each)\n",
      "15 µs ± 182 ns per loop (mean ± std. dev. of 7 runs, 100000 loops each)\n",
      "15.2 µs ± 593 ns per loop (mean ± std. dev. of 7 runs, 100000 loops each)\n",
      "15.1 µs ± 192 ns per loop (mean ± std. dev. of 7 runs, 100000 loops each)\n",
      "16.1 µs ± 1.49 µs per loop (mean ± std. dev. of 7 runs, 100000 loops each)\n",
      "15.1 µs ± 320 ns per loop (mean ± std. dev. of 7 runs, 100000 loops each)\n",
      "15 µs ± 243 ns per loop (mean ± std. dev. of 7 runs, 100000 loops each)\n",
      "15 µs ± 164 ns per loop (mean ± std. dev. of 7 runs, 100000 loops each)\n",
      "15 µs ± 160 ns per loop (mean ± std. dev. of 7 runs, 100000 loops each)\n",
      "15.8 µs ± 1.09 µs per loop (mean ± std. dev. of 7 runs, 100000 loops each)\n",
      "15.1 µs ± 311 ns per loop (mean ± std. dev. of 7 runs, 100000 loops each)\n",
      "15.4 µs ± 1.15 µs per loop (mean ± std. dev. of 7 runs, 100000 loops each)\n",
      "15.4 µs ± 357 ns per loop (mean ± std. dev. of 7 runs, 100000 loops each)\n",
      "15.1 µs ± 192 ns per loop (mean ± std. dev. of 7 runs, 100000 loops each)\n",
      "16.2 µs ± 874 ns per loop (mean ± std. dev. of 7 runs, 100000 loops each)\n",
      "15.1 µs ± 148 ns per loop (mean ± std. dev. of 7 runs, 100000 loops each)\n",
      "15.1 µs ± 162 ns per loop (mean ± std. dev. of 7 runs, 100000 loops each)\n",
      "15.1 µs ± 134 ns per loop (mean ± std. dev. of 7 runs, 100000 loops each)\n",
      "15.8 µs ± 1.39 µs per loop (mean ± std. dev. of 7 runs, 100000 loops each)\n",
      "16.1 µs ± 1.23 µs per loop (mean ± std. dev. of 7 runs, 100000 loops each)\n",
      "15.1 µs ± 217 ns per loop (mean ± std. dev. of 7 runs, 100000 loops each)\n",
      "15.5 µs ± 386 ns per loop (mean ± std. dev. of 7 runs, 100000 loops each)\n",
      "15.2 µs ± 365 ns per loop (mean ± std. dev. of 7 runs, 100000 loops each)\n",
      "16.3 µs ± 1.33 µs per loop (mean ± std. dev. of 7 runs, 100000 loops each)\n",
      "15.3 µs ± 281 ns per loop (mean ± std. dev. of 7 runs, 100000 loops each)\n",
      "15.1 µs ± 310 ns per loop (mean ± std. dev. of 7 runs, 100000 loops each)\n",
      "15 µs ± 143 ns per loop (mean ± std. dev. of 7 runs, 100000 loops each)\n",
      "14.9 µs ± 223 ns per loop (mean ± std. dev. of 7 runs, 100000 loops each)\n",
      "14.9 µs ± 136 ns per loop (mean ± std. dev. of 7 runs, 100000 loops each)\n",
      "15.1 µs ± 336 ns per loop (mean ± std. dev. of 7 runs, 100000 loops each)\n",
      "15 µs ± 190 ns per loop (mean ± std. dev. of 7 runs, 100000 loops each)\n",
      "15.2 µs ± 545 ns per loop (mean ± std. dev. of 7 runs, 100000 loops each)\n",
      "15 µs ± 134 ns per loop (mean ± std. dev. of 7 runs, 100000 loops each)\n",
      "16.1 µs ± 1.55 µs per loop (mean ± std. dev. of 7 runs, 100000 loops each)\n",
      "15.1 µs ± 317 ns per loop (mean ± std. dev. of 7 runs, 100000 loops each)\n",
      "14.9 µs ± 139 ns per loop (mean ± std. dev. of 7 runs, 100000 loops each)\n",
      "15 µs ± 241 ns per loop (mean ± std. dev. of 7 runs, 100000 loops each)\n",
      "15 µs ± 120 ns per loop (mean ± std. dev. of 7 runs, 100000 loops each)\n",
      "15 µs ± 189 ns per loop (mean ± std. dev. of 7 runs, 100000 loops each)\n",
      "15 µs ± 328 ns per loop (mean ± std. dev. of 7 runs, 100000 loops each)\n",
      "14.9 µs ± 138 ns per loop (mean ± std. dev. of 7 runs, 100000 loops each)\n",
      "15 µs ± 190 ns per loop (mean ± std. dev. of 7 runs, 100000 loops each)\n",
      "15.1 µs ± 289 ns per loop (mean ± std. dev. of 7 runs, 100000 loops each)\n",
      "15.9 µs ± 912 ns per loop (mean ± std. dev. of 7 runs, 100000 loops each)\n",
      "14.9 µs ± 84.6 ns per loop (mean ± std. dev. of 7 runs, 100000 loops each)\n",
      "14.8 µs ± 70.5 ns per loop (mean ± std. dev. of 7 runs, 100000 loops each)\n",
      "14.9 µs ± 55 ns per loop (mean ± std. dev. of 7 runs, 100000 loops each)\n",
      "15.5 µs ± 556 ns per loop (mean ± std. dev. of 7 runs, 100000 loops each)\n",
      "19.3 µs ± 3.33 µs per loop (mean ± std. dev. of 7 runs, 10000 loops each)\n",
      "15.2 µs ± 441 ns per loop (mean ± std. dev. of 7 runs, 10000 loops each)\n",
      "15.2 µs ± 345 ns per loop (mean ± std. dev. of 7 runs, 100000 loops each)\n",
      "15 µs ± 201 ns per loop (mean ± std. dev. of 7 runs, 100000 loops each)\n",
      "15 µs ± 185 ns per loop (mean ± std. dev. of 7 runs, 100000 loops each)\n",
      "15 µs ± 499 ns per loop (mean ± std. dev. of 7 runs, 100000 loops each)\n",
      "15.6 µs ± 1.25 µs per loop (mean ± std. dev. of 7 runs, 100000 loops each)\n",
      "16.3 µs ± 1.75 µs per loop (mean ± std. dev. of 7 runs, 100000 loops each)\n",
      "17.9 µs ± 2.02 µs per loop (mean ± std. dev. of 7 runs, 100000 loops each)\n",
      "18.1 µs ± 1.68 µs per loop (mean ± std. dev. of 7 runs, 100000 loops each)\n",
      "16.9 µs ± 1.33 µs per loop (mean ± std. dev. of 7 runs, 100000 loops each)\n",
      "15.4 µs ± 600 ns per loop (mean ± std. dev. of 7 runs, 100000 loops each)\n"
     ]
    },
    {
     "name": "stdout",
     "output_type": "stream",
     "text": [
      "17.5 µs ± 1.87 µs per loop (mean ± std. dev. of 7 runs, 10000 loops each)\n",
      "16.3 µs ± 462 ns per loop (mean ± std. dev. of 7 runs, 100000 loops each)\n",
      "18.8 µs ± 1.58 µs per loop (mean ± std. dev. of 7 runs, 100000 loops each)\n",
      "16.4 µs ± 1.2 µs per loop (mean ± std. dev. of 7 runs, 100000 loops each)\n",
      "16.3 µs ± 1.37 µs per loop (mean ± std. dev. of 7 runs, 100000 loops each)\n",
      "15.3 µs ± 487 ns per loop (mean ± std. dev. of 7 runs, 100000 loops each)\n",
      "15 µs ± 191 ns per loop (mean ± std. dev. of 7 runs, 100000 loops each)\n",
      "14.9 µs ± 82.9 ns per loop (mean ± std. dev. of 7 runs, 100000 loops each)\n",
      "15.1 µs ± 212 ns per loop (mean ± std. dev. of 7 runs, 100000 loops each)\n",
      "15.1 µs ± 246 ns per loop (mean ± std. dev. of 7 runs, 100000 loops each)\n",
      "15.1 µs ± 170 ns per loop (mean ± std. dev. of 7 runs, 100000 loops each)\n",
      "15.1 µs ± 296 ns per loop (mean ± std. dev. of 7 runs, 100000 loops each)\n",
      "15 µs ± 226 ns per loop (mean ± std. dev. of 7 runs, 100000 loops each)\n",
      "15.2 µs ± 309 ns per loop (mean ± std. dev. of 7 runs, 100000 loops each)\n",
      "15.9 µs ± 967 ns per loop (mean ± std. dev. of 7 runs, 100000 loops each)\n",
      "15 µs ± 275 ns per loop (mean ± std. dev. of 7 runs, 100000 loops each)\n",
      "16.3 µs ± 1.45 µs per loop (mean ± std. dev. of 7 runs, 100000 loops each)\n",
      "15 µs ± 222 ns per loop (mean ± std. dev. of 7 runs, 100000 loops each)\n",
      "15 µs ± 206 ns per loop (mean ± std. dev. of 7 runs, 100000 loops each)\n",
      "15.1 µs ± 335 ns per loop (mean ± std. dev. of 7 runs, 100000 loops each)\n",
      "15 µs ± 232 ns per loop (mean ± std. dev. of 7 runs, 100000 loops each)\n",
      "15 µs ± 76.2 ns per loop (mean ± std. dev. of 7 runs, 100000 loops each)\n",
      "15 µs ± 245 ns per loop (mean ± std. dev. of 7 runs, 100000 loops each)\n",
      "15.4 µs ± 756 ns per loop (mean ± std. dev. of 7 runs, 100000 loops each)\n",
      "17.5 µs ± 1.36 µs per loop (mean ± std. dev. of 7 runs, 10000 loops each)\n",
      "15.4 µs ± 411 ns per loop (mean ± std. dev. of 7 runs, 100000 loops each)\n",
      "15.7 µs ± 1.02 µs per loop (mean ± std. dev. of 7 runs, 100000 loops each)\n",
      "15 µs ± 172 ns per loop (mean ± std. dev. of 7 runs, 100000 loops each)\n",
      "15.1 µs ± 271 ns per loop (mean ± std. dev. of 7 runs, 100000 loops each)\n",
      "15.2 µs ± 596 ns per loop (mean ± std. dev. of 7 runs, 100000 loops each)\n",
      "15.1 µs ± 397 ns per loop (mean ± std. dev. of 7 runs, 100000 loops each)\n",
      "14.9 µs ± 85.5 ns per loop (mean ± std. dev. of 7 runs, 100000 loops each)\n",
      "14.9 µs ± 131 ns per loop (mean ± std. dev. of 7 runs, 100000 loops each)\n",
      "15 µs ± 117 ns per loop (mean ± std. dev. of 7 runs, 100000 loops each)\n",
      "16 µs ± 1.35 µs per loop (mean ± std. dev. of 7 runs, 100000 loops each)\n",
      "15.1 µs ± 386 ns per loop (mean ± std. dev. of 7 runs, 100000 loops each)\n",
      "15 µs ± 152 ns per loop (mean ± std. dev. of 7 runs, 100000 loops each)\n",
      "15 µs ± 108 ns per loop (mean ± std. dev. of 7 runs, 100000 loops each)\n",
      "15.6 µs ± 335 ns per loop (mean ± std. dev. of 7 runs, 100000 loops each)\n",
      "15.8 µs ± 1.41 µs per loop (mean ± std. dev. of 7 runs, 100000 loops each)\n",
      "15 µs ± 351 ns per loop (mean ± std. dev. of 7 runs, 100000 loops each)\n",
      "14.8 µs ± 116 ns per loop (mean ± std. dev. of 7 runs, 100000 loops each)\n",
      "15.3 µs ± 585 ns per loop (mean ± std. dev. of 7 runs, 100000 loops each)\n",
      "15 µs ± 204 ns per loop (mean ± std. dev. of 7 runs, 100000 loops each)\n",
      "16 µs ± 1.42 µs per loop (mean ± std. dev. of 7 runs, 100000 loops each)\n",
      "15.1 µs ± 234 ns per loop (mean ± std. dev. of 7 runs, 100000 loops each)\n",
      "14.9 µs ± 159 ns per loop (mean ± std. dev. of 7 runs, 100000 loops each)\n",
      "14.9 µs ± 144 ns per loop (mean ± std. dev. of 7 runs, 100000 loops each)\n",
      "15 µs ± 180 ns per loop (mean ± std. dev. of 7 runs, 100000 loops each)\n",
      "15.1 µs ± 442 ns per loop (mean ± std. dev. of 7 runs, 100000 loops each)\n",
      "14.9 µs ± 190 ns per loop (mean ± std. dev. of 7 runs, 100000 loops each)\n",
      "15 µs ± 215 ns per loop (mean ± std. dev. of 7 runs, 100000 loops each)\n",
      "19.9 µs ± 3.18 µs per loop (mean ± std. dev. of 7 runs, 10000 loops each)\n",
      "15.1 µs ± 178 ns per loop (mean ± std. dev. of 7 runs, 100000 loops each)\n",
      "15.6 µs ± 1.34 µs per loop (mean ± std. dev. of 7 runs, 100000 loops each)\n",
      "15.3 µs ± 312 ns per loop (mean ± std. dev. of 7 runs, 100000 loops each)\n",
      "14.9 µs ± 97.6 ns per loop (mean ± std. dev. of 7 runs, 100000 loops each)\n",
      "14.9 µs ± 198 ns per loop (mean ± std. dev. of 7 runs, 100000 loops each)\n",
      "15 µs ± 179 ns per loop (mean ± std. dev. of 7 runs, 100000 loops each)\n",
      "14.9 µs ± 175 ns per loop (mean ± std. dev. of 7 runs, 100000 loops each)\n",
      "17.3 µs ± 2.79 µs per loop (mean ± std. dev. of 7 runs, 100000 loops each)\n",
      "16.3 µs ± 920 ns per loop (mean ± std. dev. of 7 runs, 100000 loops each)\n",
      "15.4 µs ± 267 ns per loop (mean ± std. dev. of 7 runs, 100000 loops each)\n",
      "15.4 µs ± 365 ns per loop (mean ± std. dev. of 7 runs, 100000 loops each)\n",
      "15.7 µs ± 918 ns per loop (mean ± std. dev. of 7 runs, 100000 loops each)\n",
      "15.2 µs ± 207 ns per loop (mean ± std. dev. of 7 runs, 100000 loops each)\n",
      "15.1 µs ± 236 ns per loop (mean ± std. dev. of 7 runs, 100000 loops each)\n",
      "14.9 µs ± 127 ns per loop (mean ± std. dev. of 7 runs, 100000 loops each)\n",
      "15 µs ± 138 ns per loop (mean ± std. dev. of 7 runs, 100000 loops each)\n",
      "14.9 µs ± 154 ns per loop (mean ± std. dev. of 7 runs, 100000 loops each)\n",
      "15 µs ± 151 ns per loop (mean ± std. dev. of 7 runs, 100000 loops each)\n",
      "14.9 µs ± 153 ns per loop (mean ± std. dev. of 7 runs, 100000 loops each)\n",
      "14.9 µs ± 148 ns per loop (mean ± std. dev. of 7 runs, 100000 loops each)\n",
      "15.2 µs ± 258 ns per loop (mean ± std. dev. of 7 runs, 100000 loops each)\n",
      "16 µs ± 629 ns per loop (mean ± std. dev. of 7 runs, 100000 loops each)\n",
      "15.7 µs ± 109 ns per loop (mean ± std. dev. of 7 runs, 10000 loops each)\n",
      "15.4 µs ± 423 ns per loop (mean ± std. dev. of 7 runs, 100000 loops each)\n",
      "15.8 µs ± 821 ns per loop (mean ± std. dev. of 7 runs, 100000 loops each)\n",
      "15.9 µs ± 493 ns per loop (mean ± std. dev. of 7 runs, 100000 loops each)\n",
      "15.7 µs ± 635 ns per loop (mean ± std. dev. of 7 runs, 100000 loops each)\n",
      "15.3 µs ± 339 ns per loop (mean ± std. dev. of 7 runs, 100000 loops each)\n",
      "16.4 µs ± 1.54 µs per loop (mean ± std. dev. of 7 runs, 100000 loops each)\n",
      "15.1 µs ± 411 ns per loop (mean ± std. dev. of 7 runs, 100000 loops each)\n",
      "16.3 µs ± 1.05 µs per loop (mean ± std. dev. of 7 runs, 100000 loops each)\n",
      "16.6 µs ± 978 ns per loop (mean ± std. dev. of 7 runs, 100000 loops each)\n",
      "17.7 µs ± 2.22 µs per loop (mean ± std. dev. of 7 runs, 100000 loops each)\n",
      "16.4 µs ± 804 ns per loop (mean ± std. dev. of 7 runs, 10000 loops each)\n",
      "18.9 µs ± 4.35 µs per loop (mean ± std. dev. of 7 runs, 100000 loops each)\n",
      "15.8 µs ± 408 ns per loop (mean ± std. dev. of 7 runs, 100000 loops each)\n",
      "15.3 µs ± 326 ns per loop (mean ± std. dev. of 7 runs, 100000 loops each)\n",
      "18.6 µs ± 3.28 µs per loop (mean ± std. dev. of 7 runs, 100000 loops each)\n",
      "15.9 µs ± 458 ns per loop (mean ± std. dev. of 7 runs, 100000 loops each)\n",
      "16.1 µs ± 1.03 µs per loop (mean ± std. dev. of 7 runs, 10000 loops each)\n",
      "20.9 µs ± 4.37 µs per loop (mean ± std. dev. of 7 runs, 100000 loops each)\n",
      "15.9 µs ± 556 ns per loop (mean ± std. dev. of 7 runs, 10000 loops each)\n",
      "15.9 µs ± 1.04 µs per loop (mean ± std. dev. of 7 runs, 100000 loops each)\n",
      "15.8 µs ± 787 ns per loop (mean ± std. dev. of 7 runs, 100000 loops each)\n",
      "17.7 µs ± 2.55 µs per loop (mean ± std. dev. of 7 runs, 100000 loops each)\n",
      "18.8 µs ± 2.99 µs per loop (mean ± std. dev. of 7 runs, 10000 loops each)\n",
      "18.1 µs ± 2.85 µs per loop (mean ± std. dev. of 7 runs, 100000 loops each)\n",
      "19.4 µs ± 1.71 µs per loop (mean ± std. dev. of 7 runs, 10000 loops each)\n",
      "17.7 µs ± 3.21 µs per loop (mean ± std. dev. of 7 runs, 10000 loops each)\n",
      "21.2 µs ± 5.23 µs per loop (mean ± std. dev. of 7 runs, 100000 loops each)\n",
      "23.5 µs ± 8.11 µs per loop (mean ± std. dev. of 7 runs, 10000 loops each)\n",
      "26.3 µs ± 4.7 µs per loop (mean ± std. dev. of 7 runs, 10000 loops each)\n",
      "18.2 µs ± 2.13 µs per loop (mean ± std. dev. of 7 runs, 100000 loops each)\n",
      "The slowest run took 4.38 times longer than the fastest. This could mean that an intermediate result is being cached.\n",
      "25 µs ± 17.3 µs per loop (mean ± std. dev. of 7 runs, 10000 loops each)\n",
      "17 µs ± 2.36 µs per loop (mean ± std. dev. of 7 runs, 100000 loops each)\n",
      "16.4 µs ± 469 ns per loop (mean ± std. dev. of 7 runs, 100000 loops each)\n",
      "19.7 µs ± 3.54 µs per loop (mean ± std. dev. of 7 runs, 100000 loops each)\n"
     ]
    },
    {
     "name": "stdout",
     "output_type": "stream",
     "text": [
      "25.4 µs ± 1.71 µs per loop (mean ± std. dev. of 7 runs, 10000 loops each)\n",
      "19.9 µs ± 1.77 µs per loop (mean ± std. dev. of 7 runs, 10000 loops each)\n",
      "23.8 µs ± 4.86 µs per loop (mean ± std. dev. of 7 runs, 10000 loops each)\n",
      "24 µs ± 4.64 µs per loop (mean ± std. dev. of 7 runs, 100000 loops each)\n",
      "17.5 µs ± 1.99 µs per loop (mean ± std. dev. of 7 runs, 10000 loops each)\n",
      "17.1 µs ± 1.9 µs per loop (mean ± std. dev. of 7 runs, 100000 loops each)\n",
      "15.4 µs ± 526 ns per loop (mean ± std. dev. of 7 runs, 100000 loops each)\n",
      "15.2 µs ± 333 ns per loop (mean ± std. dev. of 7 runs, 100000 loops each)\n",
      "15.1 µs ± 127 ns per loop (mean ± std. dev. of 7 runs, 100000 loops each)\n",
      "15.2 µs ± 330 ns per loop (mean ± std. dev. of 7 runs, 100000 loops each)\n",
      "15.3 µs ± 1.06 µs per loop (mean ± std. dev. of 7 runs, 100000 loops each)\n",
      "18.4 µs ± 1.72 µs per loop (mean ± std. dev. of 7 runs, 10000 loops each)\n",
      "18 µs ± 1.81 µs per loop (mean ± std. dev. of 7 runs, 100000 loops each)\n",
      "17.4 µs ± 1.61 µs per loop (mean ± std. dev. of 7 runs, 100000 loops each)\n",
      "17.2 µs ± 1.32 µs per loop (mean ± std. dev. of 7 runs, 10000 loops each)\n",
      "18.8 µs ± 2.33 µs per loop (mean ± std. dev. of 7 runs, 100000 loops each)\n",
      "16.3 µs ± 542 ns per loop (mean ± std. dev. of 7 runs, 100000 loops each)\n",
      "16.3 µs ± 340 ns per loop (mean ± std. dev. of 7 runs, 100000 loops each)\n",
      "17.2 µs ± 995 ns per loop (mean ± std. dev. of 7 runs, 100000 loops each)\n",
      "18.3 µs ± 2.5 µs per loop (mean ± std. dev. of 7 runs, 100000 loops each)\n",
      "15.5 µs ± 356 ns per loop (mean ± std. dev. of 7 runs, 100000 loops each)\n",
      "15.7 µs ± 297 ns per loop (mean ± std. dev. of 7 runs, 100000 loops each)\n",
      "17.6 µs ± 1.44 µs per loop (mean ± std. dev. of 7 runs, 100000 loops each)\n",
      "15.4 µs ± 325 ns per loop (mean ± std. dev. of 7 runs, 100000 loops each)\n",
      "19.6 µs ± 4.46 µs per loop (mean ± std. dev. of 7 runs, 100000 loops each)\n",
      "15.7 µs ± 549 ns per loop (mean ± std. dev. of 7 runs, 100000 loops each)\n",
      "19.2 µs ± 3.38 µs per loop (mean ± std. dev. of 7 runs, 100000 loops each)\n",
      "30.1 µs ± 2.84 µs per loop (mean ± std. dev. of 7 runs, 10000 loops each)\n",
      "25.7 µs ± 5.07 µs per loop (mean ± std. dev. of 7 runs, 10000 loops each)\n",
      "26.9 µs ± 4.66 µs per loop (mean ± std. dev. of 7 runs, 10000 loops each)\n",
      "23.1 µs ± 3.31 µs per loop (mean ± std. dev. of 7 runs, 10000 loops each)\n",
      "26.3 µs ± 4.38 µs per loop (mean ± std. dev. of 7 runs, 10000 loops each)\n",
      "18.8 µs ± 1.7 µs per loop (mean ± std. dev. of 7 runs, 10000 loops each)\n",
      "17.7 µs ± 1.91 µs per loop (mean ± std. dev. of 7 runs, 10000 loops each)\n",
      "16.6 µs ± 1.51 µs per loop (mean ± std. dev. of 7 runs, 100000 loops each)\n",
      "16.7 µs ± 1.63 µs per loop (mean ± std. dev. of 7 runs, 100000 loops each)\n",
      "17.2 µs ± 2.25 µs per loop (mean ± std. dev. of 7 runs, 100000 loops each)\n",
      "18.4 µs ± 2.34 µs per loop (mean ± std. dev. of 7 runs, 100000 loops each)\n",
      "17.7 µs ± 1.71 µs per loop (mean ± std. dev. of 7 runs, 100000 loops each)\n",
      "18.1 µs ± 3.1 µs per loop (mean ± std. dev. of 7 runs, 100000 loops each)\n",
      "18.8 µs ± 3.16 µs per loop (mean ± std. dev. of 7 runs, 10000 loops each)\n",
      "19.3 µs ± 2.41 µs per loop (mean ± std. dev. of 7 runs, 100000 loops each)\n",
      "18.6 µs ± 2.35 µs per loop (mean ± std. dev. of 7 runs, 10000 loops each)\n",
      "15.9 µs ± 447 ns per loop (mean ± std. dev. of 7 runs, 100000 loops each)\n",
      "17.4 µs ± 1.08 µs per loop (mean ± std. dev. of 7 runs, 100000 loops each)\n",
      "21 µs ± 1.09 µs per loop (mean ± std. dev. of 7 runs, 100000 loops each)\n",
      "20 µs ± 2.64 µs per loop (mean ± std. dev. of 7 runs, 10000 loops each)\n",
      "20.2 µs ± 2.53 µs per loop (mean ± std. dev. of 7 runs, 10000 loops each)\n",
      "20 µs ± 2.61 µs per loop (mean ± std. dev. of 7 runs, 10000 loops each)\n",
      "19.5 µs ± 3.78 µs per loop (mean ± std. dev. of 7 runs, 10000 loops each)\n",
      "19.8 µs ± 3.02 µs per loop (mean ± std. dev. of 7 runs, 10000 loops each)\n",
      "20.5 µs ± 2.54 µs per loop (mean ± std. dev. of 7 runs, 10000 loops each)\n",
      "20.8 µs ± 1.07 µs per loop (mean ± std. dev. of 7 runs, 100000 loops each)\n",
      "21.1 µs ± 4.35 µs per loop (mean ± std. dev. of 7 runs, 10000 loops each)\n",
      "19.1 µs ± 575 ns per loop (mean ± std. dev. of 7 runs, 100000 loops each)\n",
      "17.9 µs ± 2.21 µs per loop (mean ± std. dev. of 7 runs, 100000 loops each)\n",
      "15.5 µs ± 798 ns per loop (mean ± std. dev. of 7 runs, 100000 loops each)\n",
      "15.9 µs ± 1.16 µs per loop (mean ± std. dev. of 7 runs, 100000 loops each)\n",
      "15.5 µs ± 934 ns per loop (mean ± std. dev. of 7 runs, 100000 loops each)\n",
      "15.1 µs ± 348 ns per loop (mean ± std. dev. of 7 runs, 100000 loops each)\n",
      "14.9 µs ± 132 ns per loop (mean ± std. dev. of 7 runs, 100000 loops each)\n",
      "16.2 µs ± 1.91 µs per loop (mean ± std. dev. of 7 runs, 100000 loops each)\n",
      "15.4 µs ± 610 ns per loop (mean ± std. dev. of 7 runs, 100000 loops each)\n",
      "15 µs ± 160 ns per loop (mean ± std. dev. of 7 runs, 100000 loops each)\n",
      "14.9 µs ± 126 ns per loop (mean ± std. dev. of 7 runs, 100000 loops each)\n",
      "14.9 µs ± 235 ns per loop (mean ± std. dev. of 7 runs, 100000 loops each)\n",
      "15.2 µs ± 280 ns per loop (mean ± std. dev. of 7 runs, 100000 loops each)\n",
      "15.5 µs ± 669 ns per loop (mean ± std. dev. of 7 runs, 100000 loops each)\n",
      "18.4 µs ± 5.7 µs per loop (mean ± std. dev. of 7 runs, 100000 loops each)\n",
      "16.4 µs ± 791 ns per loop (mean ± std. dev. of 7 runs, 100000 loops each)\n",
      "16 µs ± 1.09 µs per loop (mean ± std. dev. of 7 runs, 100000 loops each)\n",
      "16.8 µs ± 1.89 µs per loop (mean ± std. dev. of 7 runs, 100000 loops each)\n",
      "16.9 µs ± 1.75 µs per loop (mean ± std. dev. of 7 runs, 100000 loops each)\n",
      "17.9 µs ± 1.84 µs per loop (mean ± std. dev. of 7 runs, 100000 loops each)\n",
      "17.4 µs ± 1.19 µs per loop (mean ± std. dev. of 7 runs, 100000 loops each)\n",
      "18.2 µs ± 1.49 µs per loop (mean ± std. dev. of 7 runs, 100000 loops each)\n",
      "19.9 µs ± 1.7 µs per loop (mean ± std. dev. of 7 runs, 100000 loops each)\n",
      "17.2 µs ± 454 ns per loop (mean ± std. dev. of 7 runs, 100000 loops each)\n",
      "16.9 µs ± 1.78 µs per loop (mean ± std. dev. of 7 runs, 100000 loops each)\n",
      "15.8 µs ± 913 ns per loop (mean ± std. dev. of 7 runs, 100000 loops each)\n",
      "15.1 µs ± 361 ns per loop (mean ± std. dev. of 7 runs, 100000 loops each)\n",
      "15.1 µs ± 207 ns per loop (mean ± std. dev. of 7 runs, 100000 loops each)\n",
      "14.9 µs ± 154 ns per loop (mean ± std. dev. of 7 runs, 100000 loops each)\n",
      "15 µs ± 289 ns per loop (mean ± std. dev. of 7 runs, 100000 loops each)\n",
      "15 µs ± 155 ns per loop (mean ± std. dev. of 7 runs, 100000 loops each)\n",
      "15.1 µs ± 385 ns per loop (mean ± std. dev. of 7 runs, 100000 loops each)\n",
      "15.1 µs ± 307 ns per loop (mean ± std. dev. of 7 runs, 100000 loops each)\n",
      "14.9 µs ± 261 ns per loop (mean ± std. dev. of 7 runs, 100000 loops each)\n",
      "14.9 µs ± 233 ns per loop (mean ± std. dev. of 7 runs, 100000 loops each)\n",
      "16.6 µs ± 2.13 µs per loop (mean ± std. dev. of 7 runs, 100000 loops each)\n",
      "15.1 µs ± 216 ns per loop (mean ± std. dev. of 7 runs, 100000 loops each)\n",
      "15.5 µs ± 875 ns per loop (mean ± std. dev. of 7 runs, 100000 loops each)\n",
      "15.7 µs ± 850 ns per loop (mean ± std. dev. of 7 runs, 100000 loops each)\n",
      "16.3 µs ± 1.6 µs per loop (mean ± std. dev. of 7 runs, 100000 loops each)\n",
      "18.5 µs ± 2.05 µs per loop (mean ± std. dev. of 7 runs, 100000 loops each)\n",
      "20.5 µs ± 2.11 µs per loop (mean ± std. dev. of 7 runs, 100000 loops each)\n",
      "23.8 µs ± 5.2 µs per loop (mean ± std. dev. of 7 runs, 10000 loops each)\n",
      "30.9 µs ± 5.74 µs per loop (mean ± std. dev. of 7 runs, 10000 loops each)\n",
      "17.6 µs ± 1.32 µs per loop (mean ± std. dev. of 7 runs, 10000 loops each)\n",
      "19.6 µs ± 3.66 µs per loop (mean ± std. dev. of 7 runs, 10000 loops each)\n",
      "21.3 µs ± 5.16 µs per loop (mean ± std. dev. of 7 runs, 10000 loops each)\n",
      "23.8 µs ± 2.12 µs per loop (mean ± std. dev. of 7 runs, 100000 loops each)\n",
      "27.9 µs ± 1.87 µs per loop (mean ± std. dev. of 7 runs, 10000 loops each)\n",
      "27.9 µs ± 3.47 µs per loop (mean ± std. dev. of 7 runs, 10000 loops each)\n",
      "29.2 µs ± 2.12 µs per loop (mean ± std. dev. of 7 runs, 10000 loops each)\n",
      "28.1 µs ± 1.8 µs per loop (mean ± std. dev. of 7 runs, 10000 loops each)\n",
      "26.7 µs ± 685 ns per loop (mean ± std. dev. of 7 runs, 10000 loops each)\n",
      "27.2 µs ± 693 ns per loop (mean ± std. dev. of 7 runs, 10000 loops each)\n",
      "27.2 µs ± 584 ns per loop (mean ± std. dev. of 7 runs, 10000 loops each)\n",
      "27.4 µs ± 446 ns per loop (mean ± std. dev. of 7 runs, 10000 loops each)\n",
      "27.2 µs ± 481 ns per loop (mean ± std. dev. of 7 runs, 10000 loops each)\n"
     ]
    },
    {
     "name": "stdout",
     "output_type": "stream",
     "text": [
      "28.3 µs ± 2.3 µs per loop (mean ± std. dev. of 7 runs, 10000 loops each)\n",
      "27.5 µs ± 718 ns per loop (mean ± std. dev. of 7 runs, 10000 loops each)\n",
      "27.6 µs ± 535 ns per loop (mean ± std. dev. of 7 runs, 10000 loops each)\n",
      "29 µs ± 756 ns per loop (mean ± std. dev. of 7 runs, 10000 loops each)\n",
      "28.5 µs ± 561 ns per loop (mean ± std. dev. of 7 runs, 10000 loops each)\n",
      "28.2 µs ± 742 ns per loop (mean ± std. dev. of 7 runs, 10000 loops each)\n",
      "28.5 µs ± 1.5 µs per loop (mean ± std. dev. of 7 runs, 10000 loops each)\n",
      "28.4 µs ± 575 ns per loop (mean ± std. dev. of 7 runs, 10000 loops each)\n",
      "28.1 µs ± 1.23 µs per loop (mean ± std. dev. of 7 runs, 10000 loops each)\n",
      "28.6 µs ± 335 ns per loop (mean ± std. dev. of 7 runs, 10000 loops each)\n",
      "28.5 µs ± 836 ns per loop (mean ± std. dev. of 7 runs, 10000 loops each)\n",
      "31 µs ± 2.12 µs per loop (mean ± std. dev. of 7 runs, 10000 loops each)\n",
      "27.8 µs ± 613 ns per loop (mean ± std. dev. of 7 runs, 10000 loops each)\n",
      "27.9 µs ± 514 ns per loop (mean ± std. dev. of 7 runs, 10000 loops each)\n",
      "28.3 µs ± 2.26 µs per loop (mean ± std. dev. of 7 runs, 10000 loops each)\n",
      "27.4 µs ± 721 ns per loop (mean ± std. dev. of 7 runs, 10000 loops each)\n",
      "27.8 µs ± 973 ns per loop (mean ± std. dev. of 7 runs, 10000 loops each)\n",
      "29.6 µs ± 2.69 µs per loop (mean ± std. dev. of 7 runs, 10000 loops each)\n",
      "24.2 µs ± 3.12 µs per loop (mean ± std. dev. of 7 runs, 10000 loops each)\n",
      "22.1 µs ± 2.62 µs per loop (mean ± std. dev. of 7 runs, 10000 loops each)\n",
      "26.2 µs ± 1.39 µs per loop (mean ± std. dev. of 7 runs, 100000 loops each)\n",
      "25.7 µs ± 2.85 µs per loop (mean ± std. dev. of 7 runs, 10000 loops each)\n",
      "16.8 µs ± 3.15 µs per loop (mean ± std. dev. of 7 runs, 10000 loops each)\n",
      "17 µs ± 1.69 µs per loop (mean ± std. dev. of 7 runs, 100000 loops each)\n",
      "16.8 µs ± 1.11 µs per loop (mean ± std. dev. of 7 runs, 100000 loops each)\n",
      "16.2 µs ± 1.45 µs per loop (mean ± std. dev. of 7 runs, 100000 loops each)\n",
      "15.5 µs ± 339 ns per loop (mean ± std. dev. of 7 runs, 100000 loops each)\n",
      "15.8 µs ± 679 ns per loop (mean ± std. dev. of 7 runs, 100000 loops each)\n"
     ]
    }
   ],
   "source": [
    "def latitudes(size):\n",
    "    latitudes = []\n",
    "    x = 0\n",
    "    while x < (size):\n",
    "        %timeit np.random.uniform(-90.000, 90.000, size=1500)\n",
    "        \n",
    "    return latitudes\n",
    "# Call the function with 1500.\n",
    "%timeit latitudes(1500)"
   ]
  },
  {
   "cell_type": "code",
   "execution_count": null,
   "id": "24c4921e",
   "metadata": {},
   "outputs": [],
   "source": []
  }
 ],
 "metadata": {
  "kernelspec": {
   "display_name": "PythonData",
   "language": "python",
   "name": "pythondata"
  },
  "language_info": {
   "codemirror_mode": {
    "name": "ipython",
    "version": 3
   },
   "file_extension": ".py",
   "mimetype": "text/x-python",
   "name": "python",
   "nbconvert_exporter": "python",
   "pygments_lexer": "ipython3",
   "version": "3.7.13"
  }
 },
 "nbformat": 4,
 "nbformat_minor": 5
}
